{
 "cells": [
  {
   "cell_type": "code",
   "execution_count": null,
   "metadata": {},
   "outputs": [],
   "source": [
    "! gdown 1e3ilpZosYjvGzjmO1Jaur6Ln4cJD8yAm\n",
    "! tar -xf recanvo.tar.gz\n",
    "! rm recanvo.tar.gz\n",
    "! mv recanvo data"
   ]
  }
 ],
 "metadata": {
  "language_info": {
   "name": "python"
  }
 },
 "nbformat": 4,
 "nbformat_minor": 2
}
