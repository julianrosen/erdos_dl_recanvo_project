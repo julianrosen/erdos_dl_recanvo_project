{
 "cells": [
  {
   "cell_type": "markdown",
   "metadata": {},
   "source": [
    "This notebook builds a neural network using a transformer from a pretrained HuBERT model, attaching a linear layer and activation layer. At first, the transformer is frozen, and only the linear layer is trained. The performance is very similar to the performance of a logistic regression model using HuBERT features (as it should be). Then the HuBERT transformer is unfrozen, and the model is trained for additional epochs at a low learning rate.\n",
    "\n"
   ]
  },
  {
   "cell_type": "code",
   "execution_count": 71,
   "metadata": {},
   "outputs": [],
   "source": [
    "from pathlib import Path\n",
    "\n",
    "from tqdm.notebook import tqdm\n",
    "import numpy as np\n",
    "import pandas as pd\n",
    "import matplotlib.pyplot as plt\n",
    "from scipy.stats import norm\n",
    "from sklearn.linear_model import LogisticRegression\n",
    "from sklearn.metrics import accuracy_score, confusion_matrix, f1_score, log_loss\n",
    "from sklearn.model_selection import (\n",
    "    cross_val_predict,\n",
    "    cross_val_score,\n",
    "    cross_validate,\n",
    "    StratifiedKFold,\n",
    "    RepeatedStratifiedKFold,\n",
    ")\n",
    "from sklearn.pipeline import make_pipeline\n",
    "from sklearn.preprocessing import StandardScaler\n",
    "\n",
    "import torch\n",
    "from torch import nn\n",
    "import torchaudio\n",
    "\n",
    "datadir = Path(\"../data/wav\")"
   ]
  },
  {
   "cell_type": "code",
   "execution_count": 2,
   "metadata": {},
   "outputs": [],
   "source": [
    "# Pretrained HuBERT model\n",
    "bundle = torchaudio.pipelines.HUBERT_BASE\n",
    "pretrained_hubert_model = bundle.get_model()\n",
    "\n",
    "# List of data files\n",
    "data_files = pd.read_csv(\"../data/directory_w_train_test.csv\")\n",
    "data_files_p5 = data_files.loc[data_files.Participant == \"P05\"]\n",
    "label_counts = data_files_p5.Label.value_counts()\n",
    "training_files = data_files_p5.loc[\n",
    "    data_files_p5.Label.isin(label_counts[label_counts >= 30].index)\n",
    "    & (data_files_p5.is_test == 0)\n",
    "]"
   ]
  },
  {
   "cell_type": "code",
   "execution_count": 3,
   "metadata": {},
   "outputs": [
    {
     "data": {
      "application/vnd.jupyter.widget-view+json": {
       "model_id": "7b24db563bc74ecf8573fd0f0593ba09",
       "version_major": 2,
       "version_minor": 0
      },
      "text/plain": [
       "  0%|          | 0/777 [00:00<?, ?it/s]"
      ]
     },
     "metadata": {},
     "output_type": "display_data"
    }
   ],
   "source": [
    "waveform_list = []\n",
    "for filename in tqdm(training_files.Filename):\n",
    "    waveform, sample_rate = torchaudio.load(datadir / filename)\n",
    "    waveform = torchaudio.functional.resample(\n",
    "        waveform, sample_rate, bundle.sample_rate\n",
    "    )\n",
    "    waveform_list.append(waveform)"
   ]
  },
  {
   "cell_type": "code",
   "execution_count": 4,
   "metadata": {},
   "outputs": [
    {
     "name": "stdout",
     "output_type": "stream",
     "text": [
      "torch.Size([777])\n"
     ]
    }
   ],
   "source": [
    "labels = training_files.Label.unique()\n",
    "y = torch.zeros(len(training_files), dtype=torch.int)\n",
    "for idx, label in enumerate(labels):\n",
    "    y[(training_files.Label == label).values] = idx\n",
    "print(y.shape)"
   ]
  },
  {
   "cell_type": "code",
   "execution_count": 106,
   "metadata": {},
   "outputs": [],
   "source": [
    "class HubertFeaturesWithLayer(nn.Module):\n",
    "    def __init__(self, pretrained_hubert_model, output_size):\n",
    "        super().__init__()\n",
    "        self.feature_extractor = pretrained_hubert_model.feature_extractor\n",
    "        self.feature_projection = (\n",
    "            pretrained_hubert_model.encoder.feature_projection\n",
    "        )\n",
    "        self.pos_conv_embed = (\n",
    "            pretrained_hubert_model.encoder.transformer.pos_conv_embed\n",
    "        )\n",
    "        self.layer_norm = pretrained_hubert_model.encoder.transformer.layer_norm\n",
    "        self.transformer_layer = (\n",
    "            pretrained_hubert_model.encoder.transformer.layers[0]\n",
    "        )\n",
    "        self.linear = nn.Linear(768, output_size)\n",
    "        self.softmax = nn.Softmax(1)\n",
    "        self.freeze()\n",
    "\n",
    "    def forward(self, waveform, features=False):\n",
    "        if features:\n",
    "            x = waveform\n",
    "        else:\n",
    "            x = self.hubert_features(waveform)\n",
    "        pred = self.softmax(self.linear(x))\n",
    "        return pred\n",
    "\n",
    "    def hubert_features(self, waveform):\n",
    "        if waveform.ndim == 3 and waveform.shape[0] == 1:\n",
    "            waveform = waveform.squeeze(0)\n",
    "        x = self.feature_extractor(waveform, None)[0]\n",
    "        x = self.feature_projection(x)\n",
    "        x = x + self.pos_conv_embed(x)\n",
    "        x = self.layer_norm(x)\n",
    "        x = self.transformer_layer(x)[0].mean((0, 1)).unsqueeze(0)\n",
    "        return x\n",
    "\n",
    "    def freeze(self):\n",
    "        for param in self.transformer_layer.parameters():\n",
    "            param.requires_grad = False\n",
    "\n",
    "    def unfreeze(self):\n",
    "        for param in self.transformer_layer.parameters():\n",
    "            param.requires_grad = True\n",
    "        # Not sure whether to unfreeze just one layer, or all\n",
    "        # So far neither works very well :/\n",
    "        # for param in self.parameters():\n",
    "        #     param.requires_grad = True"
   ]
  },
  {
   "cell_type": "code",
   "execution_count": 95,
   "metadata": {},
   "outputs": [],
   "source": [
    "model = HubertFeaturesWithLayer(pretrained_hubert_model, len(labels))\n",
    "\n",
    "# dl = torch.utils.data.DataLoader(\n",
    "#     list(zip(waveform_list, y.long())), shuffle=True\n",
    "# )\n",
    "ds = list(zip(waveform_list, y.long()))\n",
    "val_size = len(ds) // 5\n",
    "train_ds, val_ds = torch.utils.data.random_split(\n",
    "    ds,\n",
    "    [len(ds) - val_size, val_size],\n",
    "    generator=torch.Generator().manual_seed(12345),\n",
    ")\n",
    "train_dl = torch.utils.data.DataLoader(train_ds, shuffle=True)\n",
    "val_dl = torch.utils.data.DataLoader(val_ds, shuffle=False)"
   ]
  },
  {
   "cell_type": "code",
   "execution_count": 96,
   "metadata": {},
   "outputs": [
    {
     "data": {
      "application/vnd.jupyter.widget-view+json": {
       "model_id": "a56c1b69356447d5b8cdb57041ab8f23",
       "version_major": 2,
       "version_minor": 0
      },
      "text/plain": [
       "  0%|          | 0/622 [00:00<?, ?it/s]"
      ]
     },
     "metadata": {},
     "output_type": "display_data"
    },
    {
     "data": {
      "application/vnd.jupyter.widget-view+json": {
       "model_id": "28f06b4f224144d4bc02d11f6348ff05",
       "version_major": 2,
       "version_minor": 0
      },
      "text/plain": [
       "  0%|          | 0/155 [00:00<?, ?it/s]"
      ]
     },
     "metadata": {},
     "output_type": "display_data"
    }
   ],
   "source": [
    "with torch.no_grad():\n",
    "    train_dl_features = torch.utils.data.DataLoader(\n",
    "        [\n",
    "            (model.hubert_features(waveform).squeeze(0), label)\n",
    "            for waveform, label in tqdm(train_dl)\n",
    "        ],\n",
    "        shuffle=True,\n",
    "        batch_size=32,\n",
    "    )\n",
    "    val_dl_features = torch.utils.data.DataLoader(\n",
    "        [\n",
    "            (model.hubert_features(waveform).squeeze(0), label)\n",
    "            for waveform, label in tqdm(val_dl)\n",
    "        ],\n",
    "        batch_size=32,\n",
    "    )"
   ]
  },
  {
   "cell_type": "code",
   "execution_count": 8,
   "metadata": {},
   "outputs": [
    {
     "data": {
      "application/vnd.jupyter.widget-view+json": {
       "model_id": "89b5af0374184b47a8ee1e847cc45d10",
       "version_major": 2,
       "version_minor": 0
      },
      "text/plain": [
       "  0%|          | 0/777 [00:00<?, ?it/s]"
      ]
     },
     "metadata": {},
     "output_type": "display_data"
    }
   ],
   "source": [
    "# Compute the standard deviation of each hubert feature. This\n",
    "# is used for regularization.\n",
    "with torch.no_grad():\n",
    "    feature_list = []\n",
    "    for waveform in tqdm(waveform_list):\n",
    "        feature_list.append(model.hubert_features(waveform))\n",
    "    X = torch.stack(feature_list)\n",
    "    std_by_feature = X.std(0)"
   ]
  },
  {
   "cell_type": "code",
   "execution_count": 9,
   "metadata": {},
   "outputs": [
    {
     "data": {
      "text/plain": [
       "(torch.Size([622, 768]),\n",
       " torch.Size([622]),\n",
       " torch.Size([155, 768]),\n",
       " torch.Size([155]))"
      ]
     },
     "execution_count": 9,
     "metadata": {},
     "output_type": "execute_result"
    }
   ],
   "source": [
    "train_dl_features_list = list(train_dl_features)\n",
    "X_tr = torch.cat([wf for wf, _ in train_dl_features_list])\n",
    "y_tr = torch.cat([label for _, label in train_dl_features_list]).squeeze(1)\n",
    "val_dl_features_list = list(val_dl_features)\n",
    "X_v = torch.cat([wf for wf, _ in val_dl_features_list])\n",
    "y_v = torch.cat([label for _, label in val_dl_features_list]).squeeze(1)\n",
    "\n",
    "X_tr.shape, y_tr.shape, X_v.shape, y_v.shape"
   ]
  },
  {
   "cell_type": "code",
   "execution_count": 10,
   "metadata": {},
   "outputs": [
    {
     "name": "stdout",
     "output_type": "stream",
     "text": [
      "Logistic val logloss: tensor(0.8877, dtype=torch.float64)\n",
      "Logistic val acc: 0.7096774193548387\n"
     ]
    }
   ],
   "source": [
    "# Logistic regression model. This will be a baseline for\n",
    "# the neural network using first hubert layer\n",
    "est = make_pipeline(\n",
    "    StandardScaler(), LogisticRegression(C=0.0133, max_iter=10**8)\n",
    ")\n",
    "est.fit(X_tr, y_tr)\n",
    "pred_log = est.predict_proba(X_v)\n",
    "print(\"Logistic val logloss:\", nn.NLLLoss()(torch.tensor(pred_log).log(), y_v))\n",
    "print(\"Logistic val acc:\", (pred_log.argmax(1) == y_v.numpy()).mean())"
   ]
  },
  {
   "cell_type": "code",
   "execution_count": 109,
   "metadata": {},
   "outputs": [
    {
     "data": {
      "application/vnd.jupyter.widget-view+json": {
       "model_id": "8fcf06edbba14547824b4dea1a62f3db",
       "version_major": 2,
       "version_minor": 0
      },
      "text/plain": [
       "  0%|          | 0/124 [00:00<?, ?it/s]"
      ]
     },
     "metadata": {},
     "output_type": "display_data"
    }
   ],
   "source": [
    "model = HubertFeaturesWithLayer(pretrained_hubert_model, len(labels))\n",
    "opt = torch.optim.Adam(model.parameters(), lr=5e-4)\n",
    "\n",
    "val_accs = []\n",
    "for epoch in tqdm(range(1, 125)):\n",
    "    loss = 0\n",
    "    for count, (wf, label) in enumerate(train_dl_features):\n",
    "        pred = model(wf, features=True)\n",
    "        loss = nn.NLLLoss()(pred.log(), label.squeeze(1))\n",
    "        # loss += (\n",
    "        #     (model.linear.weight**2 * std_by_feature**2).sum()\n",
    "        #     / (2 * C * len(train_dl))\n",
    "        # )\n",
    "        opt.zero_grad()\n",
    "        loss.backward()\n",
    "        opt.step()\n",
    "    if epoch % 10 == 0 or True:\n",
    "        with torch.no_grad():\n",
    "            val_acc = (\n",
    "                sum(\n",
    "                    (model(wf, features=True).argmax(1) == label.squeeze(1))\n",
    "                    .float()\n",
    "                    .sum()\n",
    "                    for wf, label in val_dl_features\n",
    "                )\n",
    "                / len(val_dl)\n",
    "            ).item()\n",
    "            # print(f\"Epoch {epoch}, val acc:\", val_acc)\n",
    "            val_accs.append(val_acc)"
   ]
  },
  {
   "cell_type": "code",
   "execution_count": 110,
   "metadata": {},
   "outputs": [
    {
     "name": "stdout",
     "output_type": "stream",
     "text": [
      "0.7390029430389404 117\n"
     ]
    },
    {
     "data": {
      "image/png": "[encoded data removed]",
      "text/plain": [
       "<Figure size 640x480 with 1 Axes>"
      ]
     },
     "metadata": {},
     "output_type": "display_data"
    }
   ],
   "source": [
    "# Performance is very similar to the logistic regression\n",
    "\n",
    "with torch.no_grad():\n",
    "    val_pred_0 = torch.cat(\n",
    "        [model(wf, features=True).argmax(1) for wf, label in val_dl_features]\n",
    "    )\n",
    "    val_label = torch.cat([label for wf, label in val_dl_features]).squeeze(1)\n",
    "assert (y_v == val_label).all()\n",
    "\n",
    "smoothed_val_acc = sum(pd.Series(val_accs).shift(n) for n in range(-5, 6)) / 11\n",
    "print(smoothed_val_acc.max(), smoothed_val_acc.argmax())\n",
    "plt.plot(smoothed_val_acc)\n",
    "plt.xlabel(\"Epochs\")\n",
    "plt.ylabel(\"Validtion accuracy\")\n",
    "plt.grid()"
   ]
  },
  {
   "cell_type": "code",
   "execution_count": 112,
   "metadata": {},
   "outputs": [],
   "source": [
    "# Unfreeze a layer of the pretrained model (this layer is a\n",
    "# transformer). Then run a few more training epochs, with a\n",
    "# lower learning rate.\n",
    "model.unfreeze()\n",
    "opt = torch.optim.Adam(model.parameters(), lr=3e-5)"
   ]
  },
  {
   "cell_type": "code",
   "execution_count": 113,
   "metadata": {},
   "outputs": [
    {
     "name": "stdout",
     "output_type": "stream",
     "text": [
      "Epoch 1.1, val acc: 0.658\n",
      "New better: 6,  old better: 17\n",
      "p-value (lower is better): 0.992\n",
      "\n",
      "Epoch 1.2, val acc: 0.658\n",
      "New better: 8,  old better: 19\n",
      "p-value (lower is better): 0.987\n",
      "\n",
      "Epoch 1.3, val acc: 0.632\n",
      "New better: 5,  old better: 20\n",
      "p-value (lower is better): 0.999\n",
      "\n",
      "Epoch 1.4, val acc: 0.652\n",
      "New better: 4,  old better: 16\n",
      "p-value (lower is better): 0.998\n",
      "\n",
      "Epoch 1.5, val acc: 0.600\n",
      "New better: 6,  old better: 26\n",
      "p-value (lower is better): 1.000\n",
      "\n",
      "Epoch 1.6, val acc: 0.626\n",
      "New better: 8,  old better: 24\n",
      "p-value (lower is better): 0.999\n",
      "\n",
      "Epoch 1.7, val acc: 0.658\n",
      "New better: 5,  old better: 16\n",
      "p-value (lower is better): 0.994\n",
      "\n",
      "Epoch 1.8, val acc: 0.716\n",
      "New better: 8,  old better: 10\n",
      "p-value (lower is better): 0.686\n",
      "\n",
      "Epoch 1.9, val acc: 0.703\n",
      "New better: 8,  old better: 12\n",
      "p-value (lower is better): 0.823\n",
      "\n",
      "Epoch 1.10, val acc: 0.697\n",
      "New better: 7,  old better: 12\n",
      "p-value (lower is better): 0.882\n",
      "\n",
      "Epoch 1.11, val acc: 0.703\n",
      "New better: 7,  old better: 11\n",
      "p-value (lower is better): 0.835\n",
      "\n",
      "Epoch 1.12, val acc: 0.716\n",
      "New better: 7,  old better: 9\n",
      "p-value (lower is better): 0.696\n",
      "\n",
      "Epoch 1.13, val acc: 0.677\n",
      "New better: 2,  old better: 10\n",
      "p-value (lower is better): 0.991\n",
      "\n",
      "Epoch 1.14, val acc: 0.716\n",
      "New better: 5,  old better: 7\n",
      "p-value (lower is better): 0.722\n",
      "\n",
      "Epoch 1.15, val acc: 0.697\n",
      "New better: 4,  old better: 9\n",
      "p-value (lower is better): 0.922\n",
      "\n",
      "Epoch 1.16, val acc: 0.690\n",
      "New better: 3,  old better: 9\n",
      "p-value (lower is better): 0.962\n",
      "\n",
      "Epoch 1.17, val acc: 0.671\n",
      "New better: 2,  old better: 11\n",
      "p-value (lower is better): 0.995\n",
      "\n",
      "Epoch 1.18, val acc: 0.677\n",
      "New better: 4,  old better: 12\n",
      "p-value (lower is better): 0.981\n",
      "\n",
      "Epoch 1.19, val acc: 0.677\n",
      "New better: 4,  old better: 12\n",
      "p-value (lower is better): 0.981\n",
      "\n",
      "Epoch 1.19, val acc: 0.677\n",
      "New better: 5,  old better: 13\n",
      "p-value (lower is better): 0.975\n",
      "\n",
      "Epoch 2.1, val acc: 0.671\n",
      "New better: 6,  old better: 15\n",
      "p-value (lower is better): 0.980\n",
      "\n",
      "Epoch 2.2, val acc: 0.665\n",
      "New better: 5,  old better: 15\n",
      "p-value (lower is better): 0.990\n",
      "\n",
      "Epoch 2.3, val acc: 0.684\n",
      "New better: 5,  old better: 12\n",
      "p-value (lower is better): 0.960\n",
      "\n",
      "Epoch 2.4, val acc: 0.735\n",
      "New better: 7,  old better: 6\n",
      "p-value (lower is better): 0.388\n",
      "\n",
      "Epoch 2.5, val acc: 0.716\n",
      "New better: 4,  old better: 6\n",
      "p-value (lower is better): 0.740\n",
      "\n",
      "Epoch 2.6, val acc: 0.735\n",
      "New better: 5,  old better: 4\n",
      "p-value (lower is better): 0.368\n",
      "\n",
      "Epoch 2.7, val acc: 0.729\n",
      "New better: 5,  old better: 5\n",
      "p-value (lower is better): 0.500\n",
      "\n",
      "Epoch 2.8, val acc: 0.729\n",
      "New better: 5,  old better: 5\n",
      "p-value (lower is better): 0.500\n",
      "\n",
      "Epoch 2.9, val acc: 0.735\n",
      "New better: 6,  old better: 5\n",
      "p-value (lower is better): 0.379\n",
      "\n",
      "Epoch 2.10, val acc: 0.723\n",
      "New better: 7,  old better: 8\n",
      "p-value (lower is better): 0.604\n",
      "\n",
      "Epoch 2.11, val acc: 0.710\n",
      "New better: 4,  old better: 7\n",
      "p-value (lower is better): 0.822\n",
      "\n",
      "Epoch 2.12, val acc: 0.710\n",
      "New better: 3,  old better: 6\n",
      "p-value (lower is better): 0.845\n",
      "\n",
      "Epoch 2.13, val acc: 0.716\n",
      "New better: 3,  old better: 5\n",
      "p-value (lower is better): 0.763\n",
      "\n",
      "Epoch 2.14, val acc: 0.723\n",
      "New better: 3,  old better: 4\n",
      "p-value (lower is better): 0.649\n",
      "\n",
      "Epoch 2.15, val acc: 0.703\n",
      "New better: 3,  old better: 7\n",
      "p-value (lower is better): 0.901\n",
      "\n",
      "Epoch 2.16, val acc: 0.716\n",
      "New better: 5,  old better: 7\n",
      "p-value (lower is better): 0.722\n",
      "\n",
      "Epoch 2.17, val acc: 0.703\n",
      "New better: 5,  old better: 9\n",
      "p-value (lower is better): 0.863\n",
      "\n",
      "Epoch 2.18, val acc: 0.710\n",
      "New better: 5,  old better: 8\n",
      "p-value (lower is better): 0.803\n",
      "\n",
      "Epoch 2.19, val acc: 0.697\n",
      "New better: 2,  old better: 7\n",
      "p-value (lower is better): 0.955\n",
      "\n",
      "Epoch 2.19, val acc: 0.710\n",
      "New better: 4,  old better: 7\n",
      "p-value (lower is better): 0.822\n",
      "\n",
      "Epoch 3.1, val acc: 0.716\n",
      "New better: 3,  old better: 5\n",
      "p-value (lower is better): 0.763\n",
      "\n",
      "Epoch 3.2, val acc: 0.723\n",
      "New better: 3,  old better: 4\n",
      "p-value (lower is better): 0.649\n",
      "\n",
      "Epoch 3.3, val acc: 0.729\n",
      "New better: 4,  old better: 4\n",
      "p-value (lower is better): 0.500\n",
      "\n",
      "Epoch 3.4, val acc: 0.723\n",
      "New better: 3,  old better: 4\n",
      "p-value (lower is better): 0.649\n",
      "\n",
      "Epoch 3.5, val acc: 0.748\n",
      "New better: 6,  old better: 3\n",
      "p-value (lower is better): 0.155\n",
      "\n",
      "Epoch 3.6, val acc: 0.742\n",
      "New better: 6,  old better: 4\n",
      "p-value (lower is better): 0.260\n",
      "\n",
      "Epoch 3.7, val acc: 0.742\n",
      "New better: 6,  old better: 4\n",
      "p-value (lower is better): 0.260\n",
      "\n",
      "Epoch 3.8, val acc: 0.774\n",
      "New better: 8,  old better: 1\n",
      "p-value (lower is better): 0.008\n",
      "\n",
      "Epoch 3.9, val acc: 0.742\n",
      "New better: 5,  old better: 3\n",
      "p-value (lower is better): 0.237\n",
      "\n",
      "Epoch 3.10, val acc: 0.723\n",
      "New better: 6,  old better: 7\n",
      "p-value (lower is better): 0.612\n",
      "\n",
      "Epoch 3.11, val acc: 0.697\n",
      "New better: 5,  old better: 10\n",
      "p-value (lower is better): 0.908\n",
      "\n",
      "Epoch 3.12, val acc: 0.684\n",
      "New better: 5,  old better: 12\n",
      "p-value (lower is better): 0.960\n",
      "\n",
      "Epoch 3.13, val acc: 0.652\n",
      "New better: 5,  old better: 17\n",
      "p-value (lower is better): 0.996\n",
      "\n",
      "Epoch 3.14, val acc: 0.626\n",
      "New better: 5,  old better: 21\n",
      "p-value (lower is better): 1.000\n",
      "\n",
      "Epoch 3.15, val acc: 0.626\n",
      "New better: 4,  old better: 20\n",
      "p-value (lower is better): 1.000\n",
      "\n",
      "Epoch 3.16, val acc: 0.665\n",
      "New better: 3,  old better: 13\n",
      "p-value (lower is better): 0.995\n",
      "\n",
      "Epoch 3.17, val acc: 0.658\n",
      "New better: 2,  old better: 13\n",
      "p-value (lower is better): 0.998\n",
      "\n",
      "Epoch 3.18, val acc: 0.697\n",
      "New better: 4,  old better: 9\n",
      "p-value (lower is better): 0.922\n",
      "\n",
      "Epoch 3.19, val acc: 0.697\n",
      "New better: 7,  old better: 12\n",
      "p-value (lower is better): 0.882\n",
      "\n",
      "Epoch 3.19, val acc: 0.697\n",
      "New better: 8,  old better: 13\n",
      "p-value (lower is better): 0.871\n",
      "\n"
     ]
    }
   ],
   "source": [
    "# Perform additional training, computing validation accuracy after\n",
    "# every batch. The accuracies jump around a fair bit, so I also\n",
    "# estimate a p-value for the hypothesis \"the model has better accuracy\n",
    "# after the additional training\". I tried this both with and without\n",
    "# regularization, neither way seemed to be systematically better than\n",
    "# leaving the transformer frozen.\n",
    "C = 50\n",
    "batch_size = 32\n",
    "val_accs = []\n",
    "for epoch in range(1, 4):\n",
    "    loss = 0\n",
    "    for count, (wf, label) in enumerate(train_dl):\n",
    "        pred = model(wf)\n",
    "        loss = loss + nn.NLLLoss()(pred.log(), label)\n",
    "        if count % batch_size == batch_size - 1 or count == len(train_dl) - 1:\n",
    "            loss = loss / batch_size + (\n",
    "                model.linear.weight**2 * std_by_feature**2\n",
    "            ).sum() / (2 * C * len(train_dl))\n",
    "            opt.zero_grad()\n",
    "            loss.backward()\n",
    "            opt.step()\n",
    "            loss = 0\n",
    "            with torch.no_grad():\n",
    "                preds = []\n",
    "                labs = []\n",
    "                for wf, label in val_dl:\n",
    "                    preds.append(model(wf).argmax(1).item())\n",
    "                    labs.append(label[0])\n",
    "                preds = torch.tensor(preds)\n",
    "                labs = torch.tensor(labs)\n",
    "                assert (labs == val_label).all()\n",
    "                print(\n",
    "                    f\"Epoch {epoch}.{(count+1)//batch_size}, \"\n",
    "                    f\"val acc: {(labs == preds).float().mean().item():.3f}\",\n",
    "                )\n",
    "                diff = (preds == val_label).float() - (\n",
    "                    val_pred_0 == val_label\n",
    "                ).float()\n",
    "                p1 = (diff == 1).float().mean()  # new model better\n",
    "                p2 = (diff == -1).float().mean()  # old model better\n",
    "                num_new_model_better = (diff == 1).int().sum().item()\n",
    "                num_old_model_better = (diff == -1).int().sum().item()\n",
    "                print(\n",
    "                    f\"New better: {num_new_model_better},  old better: {num_old_model_better}\"\n",
    "                )\n",
    "                std = np.sqrt(\n",
    "                    (p1 * (1 - p1) + p2 * (1 - p2)) / len(diff)\n",
    "                ).item()\n",
    "                z = (p1 - p2).item() / std\n",
    "                p = norm.sf(z)\n",
    "                print(f\"p-value (lower is better): {p:.3f}\\n\")"
   ]
  },
  {
   "cell_type": "code",
   "execution_count": null,
   "metadata": {},
   "outputs": [],
   "source": []
  }
 ],
 "metadata": {
  "kernelspec": {
   "display_name": "ml_311",
   "language": "python",
   "name": "python3"
  },
  "language_info": {
   "codemirror_mode": {
    "name": "ipython",
    "version": 3
   },
   "file_extension": ".py",
   "mimetype": "text/x-python",
   "name": "python",
   "nbconvert_exporter": "python",
   "pygments_lexer": "ipython3",
   "version": "3.11.0"
  }
 },
 "nbformat": 4,
 "nbformat_minor": 2
}
