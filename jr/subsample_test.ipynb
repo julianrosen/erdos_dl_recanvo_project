{
 "cells": [
  {
   "cell_type": "markdown",
   "metadata": {},
   "source": [
    "## Subsampling data\n",
    "\n",
    "This notebook follows the subsampling methodology of the paper `Transfer Learning with Real-World Nonverbal Vocalizations from Minimally Speaking Individuals`. For each participant, we restrict to a subset of the labels, and keep at most 10 samples from each (label,session) pair. We then compute an OOS unweighted f1 score, which should be comparable to the scores in Figure 2 of the paper. The model used here is a regularized logistic regression using features coming from a pre-trained HuBERT model. On average, the performance is better than any of the models from the paper, but this varies somewhat by participant and it is not universally the best."
   ]
  },
  {
   "cell_type": "code",
   "execution_count": 1,
   "metadata": {},
   "outputs": [],
   "source": [
    "from pathlib import Path\n",
    "\n",
    "\n",
    "import numpy as np\n",
    "import pandas as pd\n",
    "from sklearn.linear_model import LogisticRegression\n",
    "\n",
    "from sklearn.model_selection import (\n",
    "    RepeatedStratifiedKFold,\n",
    "    cross_val_score,\n",
    ")\n",
    "from sklearn.pipeline import make_pipeline\n",
    "from sklearn.preprocessing import StandardScaler\n",
    "from skopt import BayesSearchCV\n",
    "import torch\n",
    "import torchaudio\n",
    "from tqdm.notebook import tqdm\n",
    "\n",
    "# The labels for each participant used in the paper\n",
    "classes = {\n",
    "    \"P01\": [\"delighted\", \"dysregulated\", \"request\", \"frustrated\"],\n",
    "    \"P02\": [\"delighted\", \"social\", \"frustrated\", \"selftalk\"],\n",
    "    \"P03\": [\"dysregulated\", \"request\", \"frustrated\", \"selftalk\"],\n",
    "    \"P05\": [\"dysregulated\", \"delighted\", \"frustrated\", \"selftalk\"],\n",
    "    \"P06\": [\"delighted\", \"request\", \"selftalk\", \"frustrated\", \"yes\"],\n",
    "    \"P08\": [\"frustrated\", \"delighted\", \"social\", \"selftalk\", \"request\"],\n",
    "    \"P11\": [\"delighted\", \"frustrated\", \"selftalk\", \"social\"],\n",
    "    \"P16\": [\"delighted\", \"frustrated\", \"selftalk\", \"social\"],\n",
    "}"
   ]
  },
  {
   "cell_type": "code",
   "execution_count": 4,
   "metadata": {},
   "outputs": [
    {
     "data": {
      "application/vnd.jupyter.widget-view+json": {
       "model_id": "0914feaac96c42ebb7f4a550420b0e90",
       "version_major": 2,
       "version_minor": 0
      },
      "text/plain": [
       "  0%|          | 0/7077 [00:00<?, ?it/s]"
      ]
     },
     "metadata": {},
     "output_type": "display_data"
    }
   ],
   "source": [
    "# Generate features with pre-trained HuBERT model and add\n",
    "# to dataframe.\n",
    "# We end up with a dataframe `data`, with relevant columns:\n",
    "# - Participant\n",
    "# - session\n",
    "# - y (this is Label encoded as an integer)\n",
    "# - feature_n for n in [0,1,...,767], which are HuBERT features\n",
    "#\n",
    "# This cell took around 10 minutes to run on my machine.\n",
    "data_dir = Path(\"../data\")\n",
    "data_files = pd.read_csv(data_dir / \"directory_w_train_test.csv\")\n",
    "bundle = torchaudio.pipelines.HUBERT_BASE\n",
    "model = bundle.get_model()\n",
    "with torch.no_grad():\n",
    "    t_list = []\n",
    "    for filename in tqdm(data_files.Filename):\n",
    "        waveform, sample_rate = torchaudio.load(data_dir / \"wav\" / filename)\n",
    "        waveform = torchaudio.functional.resample(\n",
    "            waveform, sample_rate, bundle.sample_rate\n",
    "        )\n",
    "\n",
    "        features, _ = model.extract_features(waveform)\n",
    "        t_list.append(features[0].mean((0, 1)))\n",
    "X = torch.stack(t_list).detach()\n",
    "labels = data_files.Label.unique()\n",
    "y = torch.zeros(len(data_files), dtype=torch.int)\n",
    "for idx, label in enumerate(labels):\n",
    "    y[(data_files.Label == label).values] = idx\n",
    "data = pd.concat(\n",
    "    [\n",
    "        data_files,\n",
    "        pd.DataFrame(X, columns=[f\"feature_{n}\" for n in range(X.shape[1])]),\n",
    "        pd.DataFrame({\"y\": y}),\n",
    "    ],\n",
    "    axis=1,\n",
    ")\n",
    "data[\"session\"] = data.Filename.apply(\n",
    "    lambda name: \"_\".join(name.split(\"_\")[:2])\n",
    ")\n",
    "for participant, class_list in classes.items():\n",
    "    df = data.loc[data.Participant == participant]\n",
    "    assert all(label in df.Label.values for label in class_list)"
   ]
  },
  {
   "cell_type": "code",
   "execution_count": 5,
   "metadata": {},
   "outputs": [
    {
     "data": {
      "application/vnd.jupyter.widget-view+json": {
       "model_id": "a4fe09738414406ba61606a9c769ffbb",
       "version_major": 2,
       "version_minor": 0
      },
      "text/plain": [
       "  0%|          | 0/7 [00:00<?, ?it/s]"
      ]
     },
     "metadata": {},
     "output_type": "display_data"
    },
    {
     "name": "stdout",
     "output_type": "stream",
     "text": [
      "P01\n",
      "Label\n",
      "delighted       31\n",
      "dysregulated    31\n",
      "frustrated      31\n",
      "request         31\n",
      "Name: count, dtype: int64\n",
      "0.02 0.6700527522586346\n"
     ]
    },
    {
     "data": {
      "application/vnd.jupyter.widget-view+json": {
       "model_id": "5d927ac745c34e7c8e43977be54d0d4e",
       "version_major": 2,
       "version_minor": 0
      },
      "text/plain": [
       "  0%|          | 0/7 [00:00<?, ?it/s]"
      ]
     },
     "metadata": {},
     "output_type": "display_data"
    },
    {
     "name": "stdout",
     "output_type": "stream",
     "text": [
      "P02\n",
      "Label\n",
      "delighted     34\n",
      "frustrated    34\n",
      "selftalk      34\n",
      "social        34\n",
      "Name: count, dtype: int64\n"
     ]
    },
    {
     "name": "stderr",
     "output_type": "stream",
     "text": [
      "/home/jr/miniconda3/envs/ml_311/lib/python3.11/site-packages/skopt/optimizer/optimizer.py:517: UserWarning: The objective has been evaluated at point [0.0003000106379584184] before, using random point [0.01203307826362476]\n",
      "  warnings.warn(\n"
     ]
    },
    {
     "name": "stdout",
     "output_type": "stream",
     "text": [
      "0.0009156611590927516 0.46147773250714424\n"
     ]
    },
    {
     "data": {
      "application/vnd.jupyter.widget-view+json": {
       "model_id": "7c181fc28ffb46d49a9f62c2dedc9d7e",
       "version_major": 2,
       "version_minor": 0
      },
      "text/plain": [
       "  0%|          | 0/7 [00:00<?, ?it/s]"
      ]
     },
     "metadata": {},
     "output_type": "display_data"
    },
    {
     "name": "stdout",
     "output_type": "stream",
     "text": [
      "P03\n",
      "Label\n",
      "dysregulated    25\n",
      "frustrated      25\n",
      "request         25\n",
      "selftalk        25\n",
      "Name: count, dtype: int64\n"
     ]
    },
    {
     "name": "stderr",
     "output_type": "stream",
     "text": [
      "/home/jr/miniconda3/envs/ml_311/lib/python3.11/site-packages/skopt/optimizer/optimizer.py:517: UserWarning: The objective has been evaluated at point [0.02] before, using random point [0.006401658873966784]\n",
      "  warnings.warn(\n"
     ]
    },
    {
     "name": "stdout",
     "output_type": "stream",
     "text": [
      "0.0016408175909896968 0.578073408073408\n"
     ]
    },
    {
     "data": {
      "application/vnd.jupyter.widget-view+json": {
       "model_id": "d55e2c4c5838453998c09e1969894454",
       "version_major": 2,
       "version_minor": 0
      },
      "text/plain": [
       "  0%|          | 0/7 [00:00<?, ?it/s]"
      ]
     },
     "metadata": {},
     "output_type": "display_data"
    },
    {
     "name": "stdout",
     "output_type": "stream",
     "text": [
      "P05\n",
      "Label\n",
      "delighted       62\n",
      "dysregulated    62\n",
      "frustrated      62\n",
      "selftalk        62\n",
      "Name: count, dtype: int64\n",
      "0.008172883609112969 0.5954266957449839\n"
     ]
    },
    {
     "data": {
      "application/vnd.jupyter.widget-view+json": {
       "model_id": "a5a5e92f59e8494782ff8c4661f7c2f3",
       "version_major": 2,
       "version_minor": 0
      },
      "text/plain": [
       "  0%|          | 0/7 [00:00<?, ?it/s]"
      ]
     },
     "metadata": {},
     "output_type": "display_data"
    },
    {
     "name": "stdout",
     "output_type": "stream",
     "text": [
      "P06\n",
      "Label\n",
      "delighted     22\n",
      "frustrated    22\n",
      "request       22\n",
      "selftalk      22\n",
      "yes           22\n",
      "Name: count, dtype: int64\n",
      "0.0018158896927669855 0.3341370851370852\n"
     ]
    },
    {
     "data": {
      "application/vnd.jupyter.widget-view+json": {
       "model_id": "21f1e44d3e984a4391fb195b10124bbd",
       "version_major": 2,
       "version_minor": 0
      },
      "text/plain": [
       "  0%|          | 0/7 [00:00<?, ?it/s]"
      ]
     },
     "metadata": {},
     "output_type": "display_data"
    },
    {
     "name": "stdout",
     "output_type": "stream",
     "text": [
      "P08\n",
      "Label\n",
      "delighted     33\n",
      "frustrated    33\n",
      "request       33\n",
      "selftalk      33\n",
      "social        33\n",
      "Name: count, dtype: int64\n",
      "0.0032471823189565265 0.3480805685542528\n"
     ]
    },
    {
     "data": {
      "application/vnd.jupyter.widget-view+json": {
       "model_id": "605b286202d042bfbf602f626b24f8a9",
       "version_major": 2,
       "version_minor": 0
      },
      "text/plain": [
       "  0%|          | 0/7 [00:00<?, ?it/s]"
      ]
     },
     "metadata": {},
     "output_type": "display_data"
    },
    {
     "name": "stdout",
     "output_type": "stream",
     "text": [
      "P11\n",
      "Label\n",
      "delighted     27\n",
      "frustrated    27\n",
      "selftalk      27\n",
      "social        27\n",
      "Name: count, dtype: int64\n",
      "0.005576803128249259 0.4351826495944143\n"
     ]
    },
    {
     "data": {
      "application/vnd.jupyter.widget-view+json": {
       "model_id": "7fb88559005241eaba6485573eebaa13",
       "version_major": 2,
       "version_minor": 0
      },
      "text/plain": [
       "  0%|          | 0/7 [00:00<?, ?it/s]"
      ]
     },
     "metadata": {},
     "output_type": "display_data"
    },
    {
     "name": "stdout",
     "output_type": "stream",
     "text": [
      "P16\n",
      "Label\n",
      "delighted     47\n",
      "frustrated    47\n",
      "selftalk      47\n",
      "social        47\n",
      "Name: count, dtype: int64\n",
      "0.011364841381726321 0.6774631822911538\n"
     ]
    }
   ],
   "source": [
    "# For each participant, we subsample the data, optimize the\n",
    "# regularization parameter C, then compute OOS unweighted f1\n",
    "# score. The process is repeated 7 times (with different\n",
    "# subsamples), and the median OOS score is recorded.\n",
    "\n",
    "for participant, class_list in classes.items():\n",
    "    scores = []\n",
    "    data_one = data.loc[data.Participant == participant]\n",
    "    for n in tqdm(range(7)):\n",
    "        # List of data files\n",
    "        trimmed = pd.DataFrame(\n",
    "            data_one.groupby([\"session\", \"Label\"])\n",
    "            .apply(lambda df: df.sample(min(10, len(df))))\n",
    "            .values,\n",
    "            columns=data_one.columns,\n",
    "        )\n",
    "        vc = trimmed.groupby(\"Label\").size().loc[class_list]\n",
    "        training_files = pd.DataFrame(\n",
    "            trimmed.loc[trimmed.Label.isin(vc.index)]\n",
    "            .groupby(\"Label\")\n",
    "            .apply(lambda df: df.sample(vc.min()))\n",
    "            .values,\n",
    "            columns=trimmed.columns,\n",
    "        )\n",
    "        if n == 0:\n",
    "            print(participant)\n",
    "            print(training_files.Label.value_counts())\n",
    "\n",
    "        # There are 768 generated features, which is a lot\n",
    "        # relative to how many training data there are. So we\n",
    "        # will need regularization. Using sk-optimize to optimize\n",
    "        # strength of regularization parameter\n",
    "        est = make_pipeline(\n",
    "            StandardScaler(),\n",
    "            LogisticRegression(\n",
    "                max_iter=10**6,\n",
    "            ),\n",
    "        )\n",
    "        opt = BayesSearchCV(\n",
    "            est,\n",
    "            {\n",
    "                \"logisticregression__C\": (3e-4, 2e-2, \"log-uniform\"),\n",
    "            },\n",
    "            n_iter=20,\n",
    "            cv=RepeatedStratifiedKFold(\n",
    "                n_splits=10, n_repeats=3, random_state=12345\n",
    "            ),\n",
    "            scoring=\"f1_macro\",\n",
    "        )\n",
    "        opt.fit(\n",
    "            training_files[[f\"feature_{n}\" for n in range(X.shape[1])]],\n",
    "            training_files.y.astype(\"category\"),\n",
    "        )\n",
    "\n",
    "        # Using the optimal parameter, compute cross-validated unweighted f1\n",
    "        # score. We use a different random seed here to reduce the the value\n",
    "        # of C being overfitted to the data (though nested CV would be better).\n",
    "        score = cross_val_score(\n",
    "            opt.best_estimator_,\n",
    "            training_files[[f\"feature_{n}\" for n in range(X.shape[1])]],\n",
    "            training_files.y.astype(\"category\"),\n",
    "            cv=RepeatedStratifiedKFold(\n",
    "                n_splits=5, n_repeats=3, random_state=123456\n",
    "            ),\n",
    "            scoring=\"f1_macro\",\n",
    "        ).mean()\n",
    "        scores.append(score)\n",
    "    print(opt.best_params_[\"logisticregression__C\"], np.median(scores))"
   ]
  }
 ],
 "metadata": {
  "kernelspec": {
   "display_name": "ml_311",
   "language": "python",
   "name": "python3"
  },
  "language_info": {
   "codemirror_mode": {
    "name": "ipython",
    "version": 3
   },
   "file_extension": ".py",
   "mimetype": "text/x-python",
   "name": "python",
   "nbconvert_exporter": "python",
   "pygments_lexer": "ipython3",
   "version": "3.11.0"
  }
 },
 "nbformat": 4,
 "nbformat_minor": 2
}
